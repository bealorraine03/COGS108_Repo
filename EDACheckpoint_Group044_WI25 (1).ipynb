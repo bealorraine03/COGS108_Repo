{
 "cells": [
  {
   "cell_type": "markdown",
   "metadata": {},
   "source": [
    "**If you lost points on the last checkpoint you can get them back by responding to TA/IA feedback**  \n",
    "\n",
    "Update/change the relevant sections where you lost those points, make sure you respond on GitHub Issues to your TA/IA to call their attention to the changes you made here.\n",
    "\n",
    "Please update your Timeline... no battle plan survives contact with the enemy, so make sure we understand how your plans have changed."
   ]
  },
  {
   "cell_type": "markdown",
   "metadata": {},
   "source": [
    "# COGS 108 - EDA Checkpoint"
   ]
  },
  {
   "cell_type": "markdown",
   "metadata": {},
   "source": [
    "# Names\n",
    "\n",
    "- Mikaela San Andres\n",
    "- Claire Mallela\n",
    "- Junaya Flordeliza\n",
    "- Bea Laraya\n"
   ]
  },
  {
   "cell_type": "markdown",
   "metadata": {},
   "source": [
    "# Research Question"
   ]
  },
  {
   "cell_type": "markdown",
   "metadata": {},
   "source": [
    "Comparing datasets of California Open Data Portal’s Crash Data on State Highway System from 2021 and 2022, which lane on a standard freeway in urban areas has the lowest accident rate?\n",
    "\n"
   ]
  },
  {
   "cell_type": "markdown",
   "metadata": {},
   "source": [
    "## Background and Prior Work"
   ]
  },
  {
   "cell_type": "markdown",
   "metadata": {},
   "source": [
    "Our project’s purpose is to evaluate which lane on a high way is the safest to drive in. We want to specifically look at high ways in urban areas since these areas have the most traffic and busier highways.\n",
    "\n",
    "A study used a machine learning-based approach to predict the short-term impacts of lane changing maneuvers on traffic oscillations <a name=\"cite_ref-1\"></a>[<sup>1</sup>](#cite_note-1). They found that during traffic with the fastest speed and largest acceleration/deceleration rate in tight traffic, motorcycles were dangerously maneuvering by lane changing in smaller gaps and with larger speed differences. They also found that traffic flow was another factor in collisions during lane change, while truck lane changing showed restricted traffic flow. With this in mind, lanes that require less lane changing would be the most optimal for safety.\n", 
    "As referenced in the California Driver’s Handbook, the far left lane is known to be the ‘fast’ lane, or the passing lane, utilized for passing over other vehicles <a name=\"cite_ref-2\"></a>[<sup>2</sup>](#cite_note-2). This is made in efforts to control traffic, considering that most right lanes are closely associated with nearby freeway exits and freeway entrances. With a majority of cars merging out of the middle lane to navigate towards their exit or entrance, this creates a build-up of traffic in the middle and right lanes. Especially during peak hours of the weekdays when most people are getting off work to drive home, there are factors that influence the decisions of drivers like feelings of impatience or ‘road rage’ in driving through traffic from the congestion of the middle and right lanes, that can ultimately lead to the possibility of accidents. \n", 
    "\n",
    "1. <a name=\"cite_note-1\"></a> [^](#cite_ref-1)  Li, M., Li, Z., Xu, C., & Liu, T. (2020). Short-term prediction of safety and operation impacts of lane changes in oscillations with empirical vehicle trajectories. Accident Analysis and Prevention, 135, 105345–105345. https://doi.org/10.1016/j.aap.2019.105345\n",
    "2. <a name=\"cite_note-2\"></a> [^](#cite_ref-2)  “Section 6: Navigating the Roads,” California Department of Motor Vehicles (DMV), https://www.dmv.ca.gov/portal/handbook/california-driver-handbook/navigating-the-roads/ \n"
   ]
  },
  {
   "cell_type": "markdown",
   "metadata": {},
   "source": [
    "# Hypothesis\n"
   ]
  },
  {
   "cell_type": "markdown",
   "metadata": {},
   "source": [
    "\n",
    "Our hypothesis and prediction is that the leftmost lane has the lowest accident rate because the left lane is usually less congested in comparison to the middle and right lanes–leading to a lower amount of potential opportunities for accidents. Furthermore, there is a fewer number of merging vehicles in comparison to the other lanes which leads to higher safety rate.\n",
    "\n"
   ]
  },
  {
   "cell_type": "markdown",
   "metadata": {},
   "source": [
    "# Data"
   ]
  },
  {
   "cell_type": "markdown",
   "metadata": {},
   "source": [
    "## Data overview\n",
    "\n",
    "For each dataset include the following information\n",
    "- Dataset #1\n",
    "  - Dataset Name:\n",
    "  - Link to the dataset:\n",
    "  - Number of observations:\n",
    "  - Number of variables:\n",
    "- Dataset #2 (if you have more than one!)\n",
    "  - Dataset Name:\n",
    "  - Link to the dataset:\n",
    "  - Number of observations:\n",
    "  - Number of variables:\n",
    "- etc\n",
    "\n",
    "Now write 2 - 5 sentences describing each dataset here. Include a short description of the important variables in the dataset; what the metrics and datatypes are, what concepts they may be proxies for. Include information about how you would need to wrangle/clean/preprocess the dataset\n",
    "\n",
    "If you plan to use multiple datasets, add a few sentences about how you plan to combine these datasets."
   ]
  },
  {
   "cell_type": "markdown",
   "metadata": {},
   "source": [
    "## Dataset #1 (use name instead of number here)"
   ]
  },
  {
   "cell_type": "code",
   "execution_count": null,
   "metadata": {},
   "outputs": [],
   "source": [
    "## YOUR CODE TO LOAD/CLEAN/TIDY/WRANGLE THE DATA GOES HERE\n",
    "## FEEL FREE TO ADD MULTIPLE CELLS PER SECTION "
   ]
  },
  {
   "cell_type": "markdown",
   "metadata": {},
   "source": [
    "## Dataset #2 (if you have more than one, use name instead of number here)"
   ]
  },
  {
   "cell_type": "code",
   "execution_count": null,
   "metadata": {},
   "outputs": [],
   "source": [
    "## YOUR CODE TO LOAD/CLEAN/TIDY/WRANGLE THE DATA GOES HERE\n",
    "## FEEL FREE TO ADD MULTIPLE CELLS PER SECTION "
   ]
  },
  {
   "cell_type": "markdown",
   "metadata": {},
   "source": [
    "# Results\n",
    "\n",
    "## Exploratory Data Analysis\n",
    "\n",
    "Carry out whatever EDA you need to for your project.  Because every project will be different we can't really give you much of a template at this point. But please make sure you describe the what and why in text here as well as providing interpretation of results and context."
   ]
  },
  {
   "cell_type": "markdown",
   "metadata": {},
   "source": [
    "### Section 1 of EDA - please give it a better title than this\n",
    "\n",
    "Some more words and stuff.  Remember notebooks work best if you interleave the code that generates a result with properly annotate figures and text that puts these results into context."
   ]
  },
  {
   "cell_type": "code",
   "execution_count": null,
   "metadata": {},
   "outputs": [],
   "source": [
    "## YOUR CODE HERE\n",
    "## FEEL FREE TO ADD MULTIPLE CELLS PER SECTION"
   ]
  },
  {
   "cell_type": "markdown",
   "metadata": {},
   "source": [
    "### Section 2 of EDA if you need it  - please give it a better title than this\n",
    "\n",
    "Some more words and stuff.  Remember notebooks work best if you interleave the code that generates a result with properly annotate figures and text that puts these results into context."
   ]
  },
  {
   "cell_type": "code",
   "execution_count": null,
   "metadata": {},
   "outputs": [],
   "source": [
    "## YOUR CODE HERE\n",
    "## FEEL FREE TO ADD MULTIPLE CELLS PER SECTION"
   ]
  },
  {
   "cell_type": "markdown",
   "metadata": {},
   "source": [
    "# Ethics & Privacy"
   ]
  },
  {
   "cell_type": "markdown",
   "metadata": {},
   "source": [
    "- Thoughtful discussion of ethical concerns included\n",
    "- Ethical concerns consider the whole data science process (question asked, data collected, data being used, the bias in data, analysis, post-analysis, etc.)\n",
    "- How your group handled bias/ethical concerns clearly described\n",
    "\n",
    "Acknowledge and address any ethics & privacy related issues of your question(s), proposed dataset(s), and/or analyses. Use the information provided in lecture to guide your group discussion and thinking. If you need further guidance, check out [Deon's Ethics Checklist](http://deon.drivendata.org/#data-science-ethics-checklist). In particular:\n",
    "\n",
    "- Are there any biases/privacy/terms of use issues with the data you propsed?\n",
    "- Are there potential biases in your dataset(s), in terms of who it composes, and how it was collected, that may be problematic in terms of it allowing for equitable analysis? (For example, does your data exclude particular populations, or is it likely to reflect particular human biases in a way that could be a problem?)\n",
    "- How will you set out to detect these specific biases before, during, and after/when communicating your analysis?\n",
    "- Are there any other issues related to your topic area, data, and/or analyses that are potentially problematic in terms of data privacy and equitable impact?\n",
    "- How will you handle issues you identified?"
   ]
  },
  {
   "cell_type": "markdown",
   "metadata": {},
   "source": [
    "# Team Expectations "
   ]
  },
  {
   "cell_type": "markdown",
   "metadata": {},
   "source": [
    "\n",
    "We will communicate through Instagram and weekly occurring meetings where we will meet every Monday at 7:00pm and text in the group chat for any updates about projects. We will also be clear on which sections we will work on in regards to the project and then work on our corresponding sections. Finally, communicative in giving updates and any feedback in the form of google document comments or discussing in the group chat when necessary. To hold each other accountable, when we one person might not be responsive or is not putting in the same effort as everyone else, we can message the group chat and address our expectations again during meetings."
   ]
  },
  {
   "cell_type": "markdown",
   "metadata": {},
   "source": [
    "# Project Timeline Proposal"
   ]
  },
  {
   "cell_type": "markdown",
   "metadata": {},
   "source": [
    "\n",
    "| Meeting Date  | Meeting Time| Discuss at Meeting |\n",
    "|------|----------|--------------------------|\n",
    "| 2/03  |  7 PM | Finalize research question |\n",
    "| 2/10  |  7 PM | Find and acquire all necessary data, begin data cleaning |\n",
    "| 2/17  | 7 PM  | Finalize data cleaning |\n",
    "| 2/24  | 7 PM  | Work together to complete project review #1, finalize data cleaning and begin initial analysis |\n",
    "| 3/03  | 7 PM  | Finalize the analysis and begin final report |\n",
    "| 3/10  | 7 PM  | work together to complete project review #2, finalize report and make final video |\n",
    "| 3/17  | Finals Week | Submit the final video, final project, team evaluations, post-course survey |"
   ]
  }
 ],
 "metadata": {
  "kernelspec": {
   "display_name": "Python 3 (ipykernel)",
   "language": "python",
   "name": "python3"
  },
  "language_info": {
   "codemirror_mode": {
    "name": "ipython",
    "version": 3
   },
   "file_extension": ".py",
   "mimetype": "text/x-python",
   "name": "python",
   "nbconvert_exporter": "python",
   "pygments_lexer": "ipython3",
   "version": "3.9.7"
  }
 },
 "nbformat": 4,
 "nbformat_minor": 2
}
